{
 "cells": [
  {
   "cell_type": "code",
   "execution_count": 1,
   "metadata": {
    "collapsed": false
   },
   "outputs": [
    {
     "data": {
      "text/html": [
       "<button onclick=\"$('.input, .prompt, .output_stderr, .output_error').toggle();\">Toggle Code</button>"
      ]
     },
     "metadata": {},
     "output_type": "display_data"
    }
   ],
   "source": [
    "from IPython.display import display_html\n",
    "display_html(\"\"\"<button onclick=\"$('.input, .prompt, .output_stderr, .output_error').toggle();\">Toggle Code</button>\"\"\", raw=True)"
   ]
  },
  {
   "cell_type": "markdown",
   "metadata": {},
   "source": [
    "# Investigate survived from Titanic\n",
    "by NK Zhehua Zou"
   ]
  },
  {
   "cell_type": "markdown",
   "metadata": {
    "nbpresent": {
     "id": "e55e9aa8-b543-4a3b-b818-045f0154c965"
    }
   },
   "source": [
    "### About Dataset\n",
    "This data set contains 891 passengers with 12 variables.\n",
    "\n",
    "### Description of attributes:\n",
    "1) PassengerID: ID number of passenger.  \n",
    "2) Survived: status of survival, 0=false, 1=true.  \n",
    "3) Pclass: class of passenger, 1=1st, 2=2nd, 3=3rd.  \n",
    "4) Name: name.  \n",
    "5) Sex: sex.  \n",
    "6) Age: age.  \n",
    "7) SibSp: the number of siblings/spouses aboard.  \n",
    "8) Parch: the number of parents/children aboard.  \n",
    "9) Ticket: ticket's number.  \n",
    "10) Fare: passenger's fare.  \n",
    "11) Cabin: carbin.  \n",
    "12) Embarked: port of embarkation, C=Cherbourg, Q=Queenstown, S=Southampton."
   ]
  },
  {
   "cell_type": "markdown",
   "metadata": {
    "nbpresent": {
     "id": "4efbaaa9-2bfc-40c3-bdb9-1f28aa01f0f4"
    }
   },
   "source": [
    "# Analysis Section\n",
    "Let's focus on these 3 variables: **Pclass**, **sex** and **age**, because the movie told us these factors influenced the chances of survival for the passengers on the Titanic. "
   ]
  },
  {
   "cell_type": "code",
   "execution_count": 2,
   "metadata": {
    "collapsed": false,
    "nbpresent": {
     "id": "bfc8739f-1fb8-4d95-bf57-030054913f2d"
    }
   },
   "outputs": [],
   "source": [
    "# Load required packages and libraries.\n",
    "import numpy as np\n",
    "import pandas as pd\n",
    "from pandas import Series,DataFrame\n",
    "import matplotlib.pyplot as plt\n",
    "%matplotlib inline\n",
    "import seaborn as sns\n",
    "sns.set_style('whitegrid')\n",
    "# division by float\n",
    "from __future__ import division\n",
    "# for hypothesis testing\n",
    "import scipy\n",
    "from scipy import stats"
   ]
  },
  {
   "cell_type": "code",
   "execution_count": 3,
   "metadata": {
    "collapsed": false,
    "nbpresent": {
     "id": "adb4e32a-5e40-4706-bb8e-03c4e9b6d543"
    }
   },
   "outputs": [],
   "source": [
    "# Load dataset\n",
    "titanic_df = pd.read_csv('titanic-data.csv')"
   ]
  },
  {
   "cell_type": "code",
   "execution_count": 4,
   "metadata": {
    "collapsed": false
   },
   "outputs": [
    {
     "name": "stdout",
     "output_type": "stream",
     "text": [
      "1) This dataset includes 891 passengers.\n"
     ]
    }
   ],
   "source": [
    "# First step, how many passengers in this dataset?\n",
    "print '1) This dataset includes ' + str(len(titanic_df)) + ' passengers.'"
   ]
  },
  {
   "cell_type": "markdown",
   "metadata": {},
   "source": [
    "2) Struction of the dataset:"
   ]
  },
  {
   "cell_type": "code",
   "execution_count": 5,
   "metadata": {
    "collapsed": false
   },
   "outputs": [
    {
     "data": {
      "text/html": [
       "<div>\n",
       "<table border=\"1\" class=\"dataframe\">\n",
       "  <thead>\n",
       "    <tr style=\"text-align: right;\">\n",
       "      <th></th>\n",
       "      <th>PassengerId</th>\n",
       "      <th>Survived</th>\n",
       "      <th>Pclass</th>\n",
       "      <th>Name</th>\n",
       "      <th>Sex</th>\n",
       "      <th>Age</th>\n",
       "      <th>SibSp</th>\n",
       "      <th>Parch</th>\n",
       "      <th>Ticket</th>\n",
       "      <th>Fare</th>\n",
       "      <th>Cabin</th>\n",
       "      <th>Embarked</th>\n",
       "    </tr>\n",
       "  </thead>\n",
       "  <tbody>\n",
       "    <tr>\n",
       "      <th>0</th>\n",
       "      <td>1</td>\n",
       "      <td>0</td>\n",
       "      <td>3</td>\n",
       "      <td>Braund, Mr. Owen Harris</td>\n",
       "      <td>male</td>\n",
       "      <td>22.0</td>\n",
       "      <td>1</td>\n",
       "      <td>0</td>\n",
       "      <td>A/5 21171</td>\n",
       "      <td>7.2500</td>\n",
       "      <td>NaN</td>\n",
       "      <td>S</td>\n",
       "    </tr>\n",
       "    <tr>\n",
       "      <th>1</th>\n",
       "      <td>2</td>\n",
       "      <td>1</td>\n",
       "      <td>1</td>\n",
       "      <td>Cumings, Mrs. John Bradley (Florence Briggs Th...</td>\n",
       "      <td>female</td>\n",
       "      <td>38.0</td>\n",
       "      <td>1</td>\n",
       "      <td>0</td>\n",
       "      <td>PC 17599</td>\n",
       "      <td>71.2833</td>\n",
       "      <td>C85</td>\n",
       "      <td>C</td>\n",
       "    </tr>\n",
       "    <tr>\n",
       "      <th>2</th>\n",
       "      <td>3</td>\n",
       "      <td>1</td>\n",
       "      <td>3</td>\n",
       "      <td>Heikkinen, Miss. Laina</td>\n",
       "      <td>female</td>\n",
       "      <td>26.0</td>\n",
       "      <td>0</td>\n",
       "      <td>0</td>\n",
       "      <td>STON/O2. 3101282</td>\n",
       "      <td>7.9250</td>\n",
       "      <td>NaN</td>\n",
       "      <td>S</td>\n",
       "    </tr>\n",
       "    <tr>\n",
       "      <th>3</th>\n",
       "      <td>4</td>\n",
       "      <td>1</td>\n",
       "      <td>1</td>\n",
       "      <td>Futrelle, Mrs. Jacques Heath (Lily May Peel)</td>\n",
       "      <td>female</td>\n",
       "      <td>35.0</td>\n",
       "      <td>1</td>\n",
       "      <td>0</td>\n",
       "      <td>113803</td>\n",
       "      <td>53.1000</td>\n",
       "      <td>C123</td>\n",
       "      <td>S</td>\n",
       "    </tr>\n",
       "    <tr>\n",
       "      <th>4</th>\n",
       "      <td>5</td>\n",
       "      <td>0</td>\n",
       "      <td>3</td>\n",
       "      <td>Allen, Mr. William Henry</td>\n",
       "      <td>male</td>\n",
       "      <td>35.0</td>\n",
       "      <td>0</td>\n",
       "      <td>0</td>\n",
       "      <td>373450</td>\n",
       "      <td>8.0500</td>\n",
       "      <td>NaN</td>\n",
       "      <td>S</td>\n",
       "    </tr>\n",
       "  </tbody>\n",
       "</table>\n",
       "</div>"
      ],
      "text/plain": [
       "   PassengerId  Survived  Pclass  \\\n",
       "0            1         0       3   \n",
       "1            2         1       1   \n",
       "2            3         1       3   \n",
       "3            4         1       1   \n",
       "4            5         0       3   \n",
       "\n",
       "                                                Name     Sex   Age  SibSp  \\\n",
       "0                            Braund, Mr. Owen Harris    male  22.0      1   \n",
       "1  Cumings, Mrs. John Bradley (Florence Briggs Th...  female  38.0      1   \n",
       "2                             Heikkinen, Miss. Laina  female  26.0      0   \n",
       "3       Futrelle, Mrs. Jacques Heath (Lily May Peel)  female  35.0      1   \n",
       "4                           Allen, Mr. William Henry    male  35.0      0   \n",
       "\n",
       "   Parch            Ticket     Fare Cabin Embarked  \n",
       "0      0         A/5 21171   7.2500   NaN        S  \n",
       "1      0          PC 17599  71.2833   C85        C  \n",
       "2      0  STON/O2. 3101282   7.9250   NaN        S  \n",
       "3      0            113803  53.1000  C123        S  \n",
       "4      0            373450   8.0500   NaN        S  "
      ]
     },
     "execution_count": 5,
     "metadata": {},
     "output_type": "execute_result"
    }
   ],
   "source": [
    "titanic_df.head()"
   ]
  },
  {
   "cell_type": "markdown",
   "metadata": {},
   "source": [
    "3) We remove these varibles (PassengerId, Name, Ticket, Cabin) from dataset since they are unneccesary in the investigation."
   ]
  },
  {
   "cell_type": "code",
   "execution_count": 6,
   "metadata": {
    "collapsed": false,
    "nbpresent": {
     "id": "7d7b7044-dbef-49f7-b889-e3deff4009f3"
    }
   },
   "outputs": [],
   "source": [
    "# drop unnecessary columns\n",
    "titanic_df = titanic_df.drop(['PassengerId','Name', 'Ticket', 'Cabin'], axis=1)"
   ]
  },
  {
   "cell_type": "code",
   "execution_count": 7,
   "metadata": {
    "collapsed": false,
    "nbpresent": {
     "id": "510b01ce-489c-4564-aedf-30b50b27730a"
    }
   },
   "outputs": [
    {
     "data": {
      "text/html": [
       "<div>\n",
       "<table border=\"1\" class=\"dataframe\">\n",
       "  <thead>\n",
       "    <tr style=\"text-align: right;\">\n",
       "      <th></th>\n",
       "      <th>Survived</th>\n",
       "      <th>Pclass</th>\n",
       "      <th>Sex</th>\n",
       "      <th>Age</th>\n",
       "      <th>SibSp</th>\n",
       "      <th>Parch</th>\n",
       "      <th>Fare</th>\n",
       "      <th>Embarked</th>\n",
       "    </tr>\n",
       "  </thead>\n",
       "  <tbody>\n",
       "    <tr>\n",
       "      <th>0</th>\n",
       "      <td>0</td>\n",
       "      <td>3</td>\n",
       "      <td>male</td>\n",
       "      <td>22.0</td>\n",
       "      <td>1</td>\n",
       "      <td>0</td>\n",
       "      <td>7.2500</td>\n",
       "      <td>S</td>\n",
       "    </tr>\n",
       "    <tr>\n",
       "      <th>1</th>\n",
       "      <td>1</td>\n",
       "      <td>1</td>\n",
       "      <td>female</td>\n",
       "      <td>38.0</td>\n",
       "      <td>1</td>\n",
       "      <td>0</td>\n",
       "      <td>71.2833</td>\n",
       "      <td>C</td>\n",
       "    </tr>\n",
       "    <tr>\n",
       "      <th>2</th>\n",
       "      <td>1</td>\n",
       "      <td>3</td>\n",
       "      <td>female</td>\n",
       "      <td>26.0</td>\n",
       "      <td>0</td>\n",
       "      <td>0</td>\n",
       "      <td>7.9250</td>\n",
       "      <td>S</td>\n",
       "    </tr>\n",
       "    <tr>\n",
       "      <th>3</th>\n",
       "      <td>1</td>\n",
       "      <td>1</td>\n",
       "      <td>female</td>\n",
       "      <td>35.0</td>\n",
       "      <td>1</td>\n",
       "      <td>0</td>\n",
       "      <td>53.1000</td>\n",
       "      <td>S</td>\n",
       "    </tr>\n",
       "    <tr>\n",
       "      <th>4</th>\n",
       "      <td>0</td>\n",
       "      <td>3</td>\n",
       "      <td>male</td>\n",
       "      <td>35.0</td>\n",
       "      <td>0</td>\n",
       "      <td>0</td>\n",
       "      <td>8.0500</td>\n",
       "      <td>S</td>\n",
       "    </tr>\n",
       "  </tbody>\n",
       "</table>\n",
       "</div>"
      ],
      "text/plain": [
       "   Survived  Pclass     Sex   Age  SibSp  Parch     Fare Embarked\n",
       "0         0       3    male  22.0      1      0   7.2500        S\n",
       "1         1       1  female  38.0      1      0  71.2833        C\n",
       "2         1       3  female  26.0      0      0   7.9250        S\n",
       "3         1       1  female  35.0      1      0  53.1000        S\n",
       "4         0       3    male  35.0      0      0   8.0500        S"
      ]
     },
     "execution_count": 7,
     "metadata": {},
     "output_type": "execute_result"
    }
   ],
   "source": [
    "titanic_df.head()"
   ]
  },
  {
   "cell_type": "markdown",
   "metadata": {},
   "source": [
    "4) Missing values  \n",
    "According to the follow info, we found two variables have missing values."
   ]
  },
  {
   "cell_type": "code",
   "execution_count": 8,
   "metadata": {
    "collapsed": false
   },
   "outputs": [
    {
     "data": {
      "text/plain": [
       "Survived      0\n",
       "Pclass        0\n",
       "Sex           0\n",
       "Age         177\n",
       "SibSp         0\n",
       "Parch         0\n",
       "Fare          0\n",
       "Embarked      2\n",
       "dtype: int64"
      ]
     },
     "execution_count": 8,
     "metadata": {},
     "output_type": "execute_result"
    }
   ],
   "source": [
    "titanic_df.isnull().sum()"
   ]
  },
  {
   "cell_type": "markdown",
   "metadata": {},
   "source": [
    "### 1 - Survivors with Pclass\n",
    "**You will get more oppotunity for survived if you live in a high level room!**  \n",
    "a) Over half of passengers from 1rd class were survived. 63% passengers were survived.  \n",
    "b) There is not significant defference in 2nd class. 47% passengers were survived.  \n",
    "c) Chance of dead is two times of chance of survival in 3rd class.Only 24% passengers were survived.  \n",
    "d) Over half of passengers live in 3rd class rooms."
   ]
  },
  {
   "cell_type": "code",
   "execution_count": 9,
   "metadata": {
    "collapsed": false
   },
   "outputs": [
    {
     "data": {
      "text/plain": [
       "<matplotlib.text.Text at 0xc0ea1d0>"
      ]
     },
     "execution_count": 9,
     "metadata": {},
     "output_type": "execute_result"
    },
    {
     "data": {
      "image/png": "[encoded data removed]",
      "text/plain": [
       "<matplotlib.figure.Figure at 0xa77af60>"
      ]
     },
     "metadata": {},
     "output_type": "display_data"
    }
   ],
   "source": [
    "sns.countplot(x='Pclass', data=titanic_df)\n",
    "sns.plt.title('Count by Pclass')"
   ]
  },
  {
   "cell_type": "code",
   "execution_count": 10,
   "metadata": {
    "collapsed": false
   },
   "outputs": [
    {
     "data": {
      "image/png": "[encoded data removed]",
      "text/plain": [
       "<matplotlib.figure.Figure at 0xc2262e8>"
      ]
     },
     "metadata": {},
     "output_type": "display_data"
    }
   ],
   "source": [
    "# count\n",
    "count_class1 = len(titanic_df[titanic_df['Pclass'] == 1])\n",
    "count_class2 = len(titanic_df[titanic_df['Pclass'] == 2])\n",
    "count_class3 = len(titanic_df[titanic_df['Pclass'] == 3])\n",
    "\n",
    "# survived_rate\n",
    "count_class1_survived = len(titanic_df[(titanic_df['Survived'] == 1) &  \n",
    "                                            (titanic_df['Pclass'] == 1)])\n",
    "survived_rate_class1 = count_class1_survived/count_class1\n",
    "count_class2_survived = len(titanic_df[(titanic_df['Survived'] == 1) &  \n",
    "                                            (titanic_df['Pclass'] == 2)])\n",
    "survived_rate_class2 = count_class2_survived/count_class2\n",
    "count_class3_survived = len(titanic_df[(titanic_df['Survived'] == 1) &  \n",
    "                                            (titanic_df['Pclass'] == 3)])\n",
    "survived_rate_class3 = count_class3_survived/count_class3\n",
    "\n",
    "# perished_rate\n",
    "count_class1_perished = len(titanic_df[(titanic_df['Survived'] == 0) &  \n",
    "                                            (titanic_df['Pclass'] == 1)])\n",
    "perished_rate_class1 = count_class1_perished/count_class1\n",
    "count_class2_perished = len(titanic_df[(titanic_df['Survived'] == 0) &  \n",
    "                                            (titanic_df['Pclass'] == 2)])\n",
    "perished_rate_class2 = count_class2_perished/count_class2\n",
    "count_class3_perished = len(titanic_df[(titanic_df['Survived'] == 0) &  \n",
    "                                            (titanic_df['Pclass'] == 3)])\n",
    "perished_rate_class3 = count_class3_perished/count_class3\n",
    "\n",
    "N = 3\n",
    "\n",
    "survived_rate = (survived_rate_class1, survived_rate_class2, survived_rate_class3)\n",
    "perished_rate = (perished_rate_class1, perished_rate_class2, perished_rate_class3)\n",
    "\n",
    "ind = np.arange(N)    # the x locations for the groups\n",
    "width = 0.25       # the width of the bars: can also be len(x) sequence\n",
    "\n",
    "p1 = plt.bar(ind, survived_rate, width, color='green')\n",
    "p2 = plt.bar(ind, perished_rate, width, color='red', bottom=survived_rate)\n",
    "\n",
    "plt.ylabel('Survived_rate')\n",
    "plt.title('Survived rate by Pclass')\n",
    "plt.xticks(ind + width/2., ('Pclass1', 'Pclass2', 'Pclass3'))\n",
    "plt.yticks(np.arange(0, 1, 0.1))\n",
    "plt.legend((p1[0], p2[0]), ('Survived', 'Perished'), loc='upper center')\n",
    "\n",
    "plt.show()"
   ]
  },
  {
   "cell_type": "markdown",
   "metadata": {},
   "source": [
    "### 2 - Survivors with Sex\n",
    "a) Male passengers are more than female passengers.  \n",
    "b) Female have more oppotunity of survival. Only 19% male passengers were survived, but 74% female passengers were survived."
   ]
  },
  {
   "cell_type": "code",
   "execution_count": 11,
   "metadata": {
    "collapsed": false,
    "scrolled": true
   },
   "outputs": [
    {
     "data": {
      "text/plain": [
       "<matplotlib.text.Text at 0xc2f5e10>"
      ]
     },
     "execution_count": 11,
     "metadata": {},
     "output_type": "execute_result"
    },
    {
     "data": {
      "image/png": "[encoded data removed]",
      "text/plain": [
       "<matplotlib.figure.Figure at 0xa77a4e0>"
      ]
     },
     "metadata": {},
     "output_type": "display_data"
    }
   ],
   "source": [
    "sns.countplot(x='Sex',  data=titanic_df)\n",
    "sns.plt.title('Count by Sex')"
   ]
  },
  {
   "cell_type": "code",
   "execution_count": 12,
   "metadata": {
    "collapsed": false
   },
   "outputs": [
    {
     "data": {
      "image/png": "[encoded data removed]",
      "text/plain": [
       "<matplotlib.figure.Figure at 0xc219550>"
      ]
     },
     "metadata": {},
     "output_type": "display_data"
    }
   ],
   "source": [
    "# count\n",
    "count_male = len(titanic_df[titanic_df['Sex'] == 'male'])\n",
    "count_female = len(titanic_df[titanic_df['Sex'] == 'female'])\n",
    "\n",
    "# survived_rate\n",
    "count_male_survived = len(titanic_df[(titanic_df['Survived'] == 1) &  \n",
    "                                            (titanic_df['Sex'] == 'male')])\n",
    "survived_rate_male = count_male_survived/count_male\n",
    "count_female_survived = len(titanic_df[(titanic_df['Survived'] == 1) &  \n",
    "                                            (titanic_df['Sex'] == 'female')])\n",
    "survived_rate_female = count_female_survived/count_female\n",
    "\n",
    "# perished_rate\n",
    "count_male_perished = len(titanic_df[(titanic_df['Survived'] == 0) &  \n",
    "                                            (titanic_df['Sex'] == 'male')])\n",
    "perished_rate_male = count_male_perished/count_male\n",
    "count_female_perished = len(titanic_df[(titanic_df['Survived'] == 0) &  \n",
    "                                            (titanic_df['Sex'] == 'female')])\n",
    "perished_rate_female = count_female_perished/count_female\n",
    "\n",
    "N = 2\n",
    "\n",
    "survived_rate = (survived_rate_male, survived_rate_female)\n",
    "perished_rate = (perished_rate_male, perished_rate_female)\n",
    "\n",
    "ind = np.arange(N)    # the x locations for the groups\n",
    "width = 0.35       # the width of the bars: can also be len(x) sequence\n",
    "\n",
    "p1 = plt.bar(ind, survived_rate, width, color='green')\n",
    "p2 = plt.bar(ind, perished_rate, width, color='red', bottom=survived_rate)\n",
    "\n",
    "plt.ylabel('Survived_rate')\n",
    "plt.title('Survived rate by Sex')\n",
    "plt.xticks(ind + width/2., ('Male', 'Female'))\n",
    "plt.yticks(np.arange(0, 1, 0.1))\n",
    "plt.legend((p1[0], p2[0]), ('Survived', 'Perished'), loc='upper center')\n",
    "\n",
    "plt.show()"
   ]
  },
  {
   "cell_type": "markdown",
   "metadata": {},
   "source": [
    "### 3 - Survivors with age\n",
    "a) Number of adults is greater than children.\n",
    "b) Children have high chance of survival."
   ]
  },
  {
   "cell_type": "code",
   "execution_count": 13,
   "metadata": {
    "collapsed": false
   },
   "outputs": [
    {
     "data": {
      "image/png": "[encoded data removed]",
      "text/plain": [
       "<matplotlib.figure.Figure at 0xc6f4d30>"
      ]
     },
     "metadata": {},
     "output_type": "display_data"
    }
   ],
   "source": [
    "count_children = len(titanic_df[titanic_df['Age']<18])\n",
    "count_adults = len(titanic_df[titanic_df['Age']>=18])\n",
    "\n",
    "N = 2\n",
    "count = (count_children, count_adults)\n",
    "\n",
    "ind = np.arange(N)    # the x locations for the groups\n",
    "width = 0.35       # the width of the bars: can also be len(x) sequence\n",
    "\n",
    "p1 = plt.bar(ind, count, width, color='navy')\n",
    "\n",
    "plt.ylabel('count')\n",
    "plt.title('Count by Age')\n",
    "plt.xticks(ind + width/2., ('Children', 'Adults'))\n",
    "\n",
    "plt.show()"
   ]
  },
  {
   "cell_type": "code",
   "execution_count": 14,
   "metadata": {
    "collapsed": false
   },
   "outputs": [
    {
     "data": {
      "image/png": "[encoded data removed]",
      "text/plain": [
       "<matplotlib.figure.Figure at 0xc201a58>"
      ]
     },
     "metadata": {},
     "output_type": "display_data"
    }
   ],
   "source": [
    "# count\n",
    "count_children = len(titanic_df[titanic_df['Age']<18])\n",
    "count_adults = len(titanic_df[titanic_df['Age']>=18])\n",
    "\n",
    "# survived_rate\n",
    "count_children_survived = len(titanic_df[(titanic_df['Survived']==1) & \n",
    "                                     (titanic_df['Age']<18)])\n",
    "survived_rate_children = count_children_survived/count_children\n",
    "count_adults_survived = len(titanic_df[(titanic_df['Survived']==1) & \n",
    "                                     (titanic_df['Age']>=18)])\n",
    "survived_rate_adults = count_adults_survived/count_adults\n",
    "\n",
    "# perished_rate\n",
    "count_children_perished = len(titanic_df[(titanic_df['Survived']==0) & \n",
    "                                     (titanic_df['Age']<18)])\n",
    "perished_rate_children = count_children_perished/count_children\n",
    "count_adults_perished = len(titanic_df[(titanic_df['Survived']==0) & \n",
    "                                     (titanic_df['Age']>=18)])\n",
    "perished_rate_adults = count_adults_perished/count_adults\n",
    "\n",
    "N = 2\n",
    "survived_rate = (survived_rate_children, survived_rate_adults)\n",
    "perished_rate = (perished_rate_children, perished_rate_adults)\n",
    "\n",
    "ind = np.arange(N)    # the x locations for the groups\n",
    "width = 0.35       # the width of the bars: can also be len(x) sequence\n",
    "\n",
    "p1 = plt.bar(ind, survived_rate, width, color='green')\n",
    "p2 = plt.bar(ind, perished_rate, width, color='red', bottom=survived_rate)\n",
    "\n",
    "plt.ylabel('Survived_rate')\n",
    "plt.title('Survived rate by Age')\n",
    "plt.xticks(ind + width/2., ('Children', 'Adults'))\n",
    "plt.yticks(np.arange(0, 1, 0.1))\n",
    "plt.legend((p1[0], p2[0]), ('Survived', 'Perished'), loc='upper center')\n",
    "\n",
    "plt.show()"
   ]
  },
  {
   "cell_type": "markdown",
   "metadata": {},
   "source": [
    "### 4 - Survivors with parch or sibsp\n",
    "People have higher chance of survival if they have 1 - 2 parch or sibsp, but only half oppotunity of survived.  \n",
    "I have to say that I don't think there is a significant difference."
   ]
  },
  {
   "cell_type": "code",
   "execution_count": 15,
   "metadata": {
    "collapsed": false
   },
   "outputs": [
    {
     "data": {
      "image/png": "[encoded data removed]",
      "text/plain": [
       "<matplotlib.figure.Figure at 0xc226668>"
      ]
     },
     "metadata": {},
     "output_type": "display_data"
    }
   ],
   "source": [
    "count_alone = len(titanic_df[(titanic_df['Parch']==0) & \n",
    "                                     (titanic_df['SibSp']==0)])\n",
    "count_accompanying = len(titanic_df[(titanic_df['Parch']!=0) | \n",
    "                                     (titanic_df['SibSp']!=0)])\n",
    "\n",
    "N = 2\n",
    "count = (count_alone, count_accompanying)\n",
    "\n",
    "ind = np.arange(N)    # the x locations for the groups\n",
    "width = 0.35       # the width of the bars: can also be len(x) sequence\n",
    "\n",
    "p1 = plt.bar(ind, count, width, color='navy')\n",
    "\n",
    "plt.ylabel('count')\n",
    "plt.title('Count by Parch or SibSp')\n",
    "plt.xticks(ind + width/2., ('Alone', 'Accompanying'))\n",
    "\n",
    "plt.show()"
   ]
  },
  {
   "cell_type": "code",
   "execution_count": 16,
   "metadata": {
    "collapsed": false
   },
   "outputs": [
    {
     "data": {
      "image/png": "[encoded data removed]",
      "text/plain": [
       "<matplotlib.figure.Figure at 0xcbe41d0>"
      ]
     },
     "metadata": {},
     "output_type": "display_data"
    }
   ],
   "source": [
    "# count\n",
    "count_alone = len(titanic_df[(titanic_df['Parch']==0) & \n",
    "                                     (titanic_df['SibSp']==0)])\n",
    "count_accompanying = len(titanic_df[(titanic_df['Parch']!=0) | \n",
    "                                     (titanic_df['SibSp']!=0)])\n",
    "\n",
    "# survived_rate\n",
    "count_alone_survived = len(titanic_df[(titanic_df['Survived']==1) & \n",
    "                                     (titanic_df['Parch']==0) & \n",
    "                                     (titanic_df['SibSp']==0)])\n",
    "survived_rate_alone = count_alone_survived/count_alone\n",
    "count_accompanying_survived = len(titanic_df[(titanic_df['Survived']==1) & \n",
    "                                     ((titanic_df['Parch']!=0) | \n",
    "                                     (titanic_df['SibSp']!=0))])\n",
    "survived_rate_accompanying = count_accompanying_survived/count_accompanying\n",
    "\n",
    "# perished_rate\n",
    "count_alone_perished = len(titanic_df[(titanic_df['Survived']==0) & \n",
    "                                     (titanic_df['Parch']==0) & \n",
    "                                     (titanic_df['SibSp']==0)])\n",
    "perished_rate_alone = count_alone_perished/count_alone\n",
    "count_accompanying_perished = len(titanic_df[(titanic_df['Survived']==0) & \n",
    "                                     ((titanic_df['Parch']!=0) | \n",
    "                                     (titanic_df['SibSp']!=0))])\n",
    "perished_rate_accompanying = count_accompanying_perished/count_accompanying\n",
    "\n",
    "N = 2\n",
    "survived_rate = (survived_rate_alone, survived_rate_accompanying)\n",
    "perished_rate = (perished_rate_alone, perished_rate_accompanying)\n",
    "\n",
    "ind = np.arange(N)    # the x locations for the groups\n",
    "width = 0.35       # the width of the bars: can also be len(x) sequence\n",
    "\n",
    "p1 = plt.bar(ind, survived_rate, width, color='green')\n",
    "p2 = plt.bar(ind, perished_rate, width, color='red', bottom=survived_rate)\n",
    "\n",
    "plt.ylabel('Survived_rate')\n",
    "plt.title('Survived rate by Age')\n",
    "plt.xticks(ind + width/2., ('Alone', 'Accompanying'))\n",
    "plt.yticks(np.arange(0, 1, 0.1))\n",
    "plt.legend((p1[0], p2[0]), ('Survived', 'Perished'), loc='upper center')\n",
    "\n",
    "plt.show()"
   ]
  },
  {
   "cell_type": "markdown",
   "metadata": {},
   "source": [
    "### 2) Correlation between each variables"
   ]
  },
  {
   "cell_type": "markdown",
   "metadata": {},
   "source": [
    "### 1 - Sex vs. Age vs. Survived\n",
    "a) There is nothing difference for male passengers, they have same mean of age between dead and survived.  \n",
    "b) Older female passengers have higher chance to survived than younger female passengers.  \n",
    "c) Most of passengers are 18 - 38 years old, male passengers' ages are older than female passengers' ages."
   ]
  },
  {
   "cell_type": "code",
   "execution_count": 17,
   "metadata": {
    "collapsed": false,
    "scrolled": true
   },
   "outputs": [
    {
     "data": {
      "text/plain": [
       "<matplotlib.text.Text at 0xc744550>"
      ]
     },
     "execution_count": 17,
     "metadata": {},
     "output_type": "execute_result"
    },
    {
     "data": {
      "image/png": "[encoded data removed]",
      "text/plain": [
       "<matplotlib.figure.Figure at 0xc952c50>"
      ]
     },
     "metadata": {},
     "output_type": "display_data"
    }
   ],
   "source": [
    "sns.boxplot(x=\"Sex\",y=\"Age\",hue=\"Survived\", data=titanic_df)\n",
    "leg = plt.legend(title='Survived', ncol=2, frameon=True)\n",
    "for n, status in enumerate(['Perished', 'Survived']):\n",
    "    leg.get_texts()[n].set_text(status)\n",
    "sns.plt.title('Sex vs. Age vs. Survived')"
   ]
  },
  {
   "cell_type": "markdown",
   "metadata": {},
   "source": [
    "### 2 - Fare vs. Pclass vs. Survived\n",
    "a) Passengers live in higher level room have higher chance of survival.  \n",
    "b) People who are paid more expensive fare will get higher chance of syrvival even they live in same level room.  \n",
    "c) People need to pay more money for higher level room.  \n",
    "d) Another word, people need to spend more money to increate their change of survival.  \n",
    "e) Passengers live in higher level room have higher chance of survival. It is possible that the higher levels are closer to the exit and lifeboats, thus they are the first to escape. "
   ]
  },
  {
   "cell_type": "code",
   "execution_count": 18,
   "metadata": {
    "collapsed": false
   },
   "outputs": [
    {
     "data": {
      "text/plain": [
       "<matplotlib.text.Text at 0xc2d6240>"
      ]
     },
     "execution_count": 18,
     "metadata": {},
     "output_type": "execute_result"
    },
    {
     "data": {
      "image/png": "[encoded data removed]",
      "text/plain": [
       "<matplotlib.figure.Figure at 0xcc95cf8>"
      ]
     },
     "metadata": {},
     "output_type": "display_data"
    }
   ],
   "source": [
    "sns.violinplot(x='Pclass', y='Fare', data=titanic_df, hue='Survived', split=True)\n",
    "leg = plt.legend(title='Survived', ncol=2, frameon=True)\n",
    "for n, status in enumerate(['Perished', 'Survived']):\n",
    "    leg.get_texts()[n].set_text(status)\n",
    "sns.plt.title('Fare vs. Pclass vs. Survived')"
   ]
  },
  {
   "cell_type": "markdown",
   "metadata": {},
   "source": [
    "# 3 - Embardked vs. Pclass vs. Survived\n",
    "a) We found people embarked from Southampton have higher chance of survival than people envarked from Queenstown.  \n",
    "b) Because people have more oppotunity to buy tickets for 1st class room if they embardked from Southhampton.  \n",
    "c) We can say that Embardked influenced survival even if we know the real reason is Pclass."
   ]
  },
  {
   "cell_type": "code",
   "execution_count": 19,
   "metadata": {
    "collapsed": false
   },
   "outputs": [
    {
     "data": {
      "image/png": "[encoded data removed]",
      "text/plain": [
       "<matplotlib.figure.Figure at 0xc8db198>"
      ]
     },
     "metadata": {},
     "output_type": "display_data"
    }
   ],
   "source": [
    "# survived\n",
    "count_S_survived = len(titanic_df[(titanic_df['Survived'] == 1) &  \n",
    "                                            (titanic_df['Embarked'] == 'S')])\n",
    "count_C_survived = len(titanic_df[(titanic_df['Survived'] == 1) &  \n",
    "                                            (titanic_df['Embarked'] == 'C')])\n",
    "count_Q_survived = len(titanic_df[(titanic_df['Survived'] == 1) &  \n",
    "                                            (titanic_df['Embarked'] == 'Q')])\n",
    "\n",
    "# perished\n",
    "count_S_perished = len(titanic_df[(titanic_df['Survived'] == 0) &  \n",
    "                                            (titanic_df['Embarked'] == 'S')])\n",
    "count_C_perished = len(titanic_df[(titanic_df['Survived'] == 0) &  \n",
    "                                            (titanic_df['Embarked'] == 'C')])\n",
    "count_Q_perished = len(titanic_df[(titanic_df['Survived'] == 0) &  \n",
    "                                            (titanic_df['Embarked'] == 'Q')])\n",
    "\n",
    "N = 3\n",
    "\n",
    "survived = (count_S_survived, count_C_survived, count_Q_survived)\n",
    "perished = (count_S_perished, count_C_perished, count_Q_perished)\n",
    "\n",
    "ind = np.arange(N)    # the x locations for the groups\n",
    "width = 0.35       # the width of the bars: can also be len(x) sequence\n",
    "\n",
    "p1 = plt.bar(ind, survived, width, color='green')\n",
    "p2 = plt.bar(ind, perished, width, color='red', bottom=survived)\n",
    "\n",
    "plt.ylabel('Count')\n",
    "plt.title('Survived count by Envbarked')\n",
    "plt.xticks(ind + width/2., ('Southampton', 'Cherbourg', 'Queenstown'))\n",
    "plt.legend((p1[0], p2[0]), ('Survived', 'Perished'))\n",
    "\n",
    "plt.show()"
   ]
  },
  {
   "cell_type": "code",
   "execution_count": 20,
   "metadata": {
    "collapsed": false
   },
   "outputs": [
    {
     "data": {
      "image/png": "[encoded data removed]",
      "text/plain": [
       "<matplotlib.figure.Figure at 0xc774b38>"
      ]
     },
     "metadata": {},
     "output_type": "display_data"
    }
   ],
   "source": [
    "h=sns.FacetGrid(titanic_df, col=\"Embarked\")\n",
    "h.map(sns.countplot,\"Pclass\")\n",
    "h.set(xlabel='Pclass', ylabel='count')\n",
    "h.fig.suptitle('Embarked vs. Pclass', y=1.05)\n",
    "\n",
    "titles = ('Southampton', 'Cherbourg', 'Queenstown')\n",
    "for ax, title in zip(h.axes.flat, titles):\n",
    "    ax.set_title('Embarked = {}'.format(title))"
   ]
  },
  {
   "cell_type": "markdown",
   "metadata": {},
   "source": [
    "### 3) Conclusion\n",
    "a) Less half of passengers were survived from the Titanic.  \n",
    "b) The survival rate of female passengers was much greater than that of male passengers.  \n",
    "c) A higher percentage of children made it through as compared to the adults.  \n",
    "d) The survival rate of 1st class passengers was much greater than that of 3rd class passengers.  \n",
    "e) I don't think there is a strong correlation between sibsp/parch with survived.   \n",
    "f) We can say that Embardked influenced survival even if we know the real reason is Pclass.  \n",
    "  \n",
    "##### limitation and bias: \n",
    "more male passenger than female passenger thus might affect the survival ratio.\n",
    "It is possible there is a priority on who gets the lifeboat first, for example children, senior, and women are usually before male. Also infants who needs their mothers might gets on the lifeboat together. These can all be factors that change the outcome of study.  \n",
    "Partial data was collected some with missing age, this will limit the accuracy of the analysis of gender and class which is possible to skew the results from what happened in reality. Also this dataset was at least in part collected after the titanic sank. This means that there's significant survivor bias.  \n",
    "In addition, even though our study showed female, higher class, children have higher survival but these factors are not the cause of survival since strong correlation does not imply causation."
   ]
  }
 ],
 "metadata": {
  "anaconda-cloud": {},
  "kernelspec": {
   "display_name": "Python [Root]",
   "language": "python",
   "name": "Python [Root]"
  },
  "language_info": {
   "codemirror_mode": {
    "name": "ipython",
    "version": 2
   },
   "file_extension": ".py",
   "mimetype": "text/x-python",
   "name": "python",
   "nbconvert_exporter": "python",
   "pygments_lexer": "ipython2",
   "version": "2.7.12"
  },
  "nbpresent": {
   "slides": {
    "054e06f4-3a23-4587-a87b-d7aab7e8d7e4": {
     "id": "054e06f4-3a23-4587-a87b-d7aab7e8d7e4",
     "prev": null,
     "regions": {
      "0243f27c-8313-4ff6-923b-38b3dcd304c5": {
       "attrs": {
        "height": 0.8,
        "width": 0.8,
        "x": 0.1,
        "y": 0.1
       },
       "content": {
        "cell": "b0d6a905-1c6e-4a70-b82f-27bfb2d77efd",
        "part": "whole"
       },
       "id": "0243f27c-8313-4ff6-923b-38b3dcd304c5"
      }
     }
    },
    "3cd1c856-6259-4d15-889a-cf245b1574e3": {
     "id": "3cd1c856-6259-4d15-889a-cf245b1574e3",
     "prev": "c55f03f4-3b40-434c-bd04-8dfe5c62ef26",
     "regions": {
      "4e474fb4-e13b-4e2b-b41b-03f256f250af": {
       "attrs": {
        "height": 0.8,
        "width": 0.8,
        "x": 0.1,
        "y": 0.1
       },
       "content": {
        "cell": "adb4e32a-5e40-4706-bb8e-03c4e9b6d543",
        "part": "whole"
       },
       "id": "4e474fb4-e13b-4e2b-b41b-03f256f250af"
      }
     }
    },
    "6fca1276-571c-4557-a7dc-48edc2d918af": {
     "id": "6fca1276-571c-4557-a7dc-48edc2d918af",
     "prev": "054e06f4-3a23-4587-a87b-d7aab7e8d7e4",
     "regions": {
      "57c83c96-3ee3-4825-8ac0-2c3bf944d42c": {
       "attrs": {
        "height": 0.8,
        "width": 0.8,
        "x": 0.1,
        "y": 0.1
       },
       "content": {
        "cell": "e55e9aa8-b543-4a3b-b818-045f0154c965",
        "part": "whole"
       },
       "id": "57c83c96-3ee3-4825-8ac0-2c3bf944d42c"
      }
     }
    },
    "792a432d-841b-438a-b59f-8c2ce775140f": {
     "id": "792a432d-841b-438a-b59f-8c2ce775140f",
     "prev": "3cd1c856-6259-4d15-889a-cf245b1574e3",
     "regions": {
      "698310d4-8efd-4ca6-9e5a-8a4ded542080": {
       "attrs": {
        "height": 0.8,
        "width": 0.8,
        "x": 0.1,
        "y": 0.1
       },
       "content": {
        "cell": "7d7b7044-dbef-49f7-b889-e3deff4009f3",
        "part": "whole"
       },
       "id": "698310d4-8efd-4ca6-9e5a-8a4ded542080"
      }
     }
    },
    "7a1e6892-2bae-440c-9ef2-a897b9014a48": {
     "id": "7a1e6892-2bae-440c-9ef2-a897b9014a48",
     "prev": "9e57295d-d20d-4aee-890c-080b5a1a376b",
     "regions": {
      "4aafc4ef-1ab9-4e1e-bd49-d1e2c61648fd": {
       "attrs": {
        "height": 0.8,
        "width": 0.8,
        "x": 0.1,
        "y": 0.1
       },
       "content": {
        "cell": "28a0939c-4f82-4c5b-8d9f-c02e4b911c33",
        "part": "whole"
       },
       "id": "4aafc4ef-1ab9-4e1e-bd49-d1e2c61648fd"
      }
     }
    },
    "80e86cfe-1c7a-4874-9bcc-f4bbd7864343": {
     "id": "80e86cfe-1c7a-4874-9bcc-f4bbd7864343",
     "prev": "8fcb6e15-8e3c-4beb-ac7a-8b4ace559937",
     "regions": {
      "177b2e82-ec8f-4283-80c7-5b4a69444d79": {
       "attrs": {
        "height": 0.8,
        "width": 0.8,
        "x": 0.1,
        "y": 0.1
       },
       "content": {
        "cell": "3ed1364b-355b-4310-a973-f662b1330b76",
        "part": "whole"
       },
       "id": "177b2e82-ec8f-4283-80c7-5b4a69444d79"
      }
     }
    },
    "8912f6f3-9cbd-4723-b4df-499733b50c16": {
     "id": "8912f6f3-9cbd-4723-b4df-499733b50c16",
     "prev": "6fca1276-571c-4557-a7dc-48edc2d918af",
     "regions": {
      "99fc07fa-3fbe-4862-8028-bf51c32d3f31": {
       "attrs": {
        "height": 0.8,
        "width": 0.8,
        "x": 0.1,
        "y": 0.1
       },
       "content": {
        "cell": "4efbaaa9-2bfc-40c3-bdb9-1f28aa01f0f4",
        "part": "whole"
       },
       "id": "99fc07fa-3fbe-4862-8028-bf51c32d3f31"
      }
     }
    },
    "8fcb6e15-8e3c-4beb-ac7a-8b4ace559937": {
     "id": "8fcb6e15-8e3c-4beb-ac7a-8b4ace559937",
     "prev": "cbb5d1fb-18aa-4cc3-bdca-d8b38139695f",
     "regions": {
      "3aba6f71-068e-48b1-b9fb-0c318bf515ef": {
       "attrs": {
        "height": 0.8,
        "width": 0.8,
        "x": 0.1,
        "y": 0.1
       },
       "content": {
        "cell": "710de7fe-ceb5-4bbe-9ace-f8b86362975d",
        "part": "whole"
       },
       "id": "3aba6f71-068e-48b1-b9fb-0c318bf515ef"
      }
     }
    },
    "9e57295d-d20d-4aee-890c-080b5a1a376b": {
     "id": "9e57295d-d20d-4aee-890c-080b5a1a376b",
     "prev": "80e86cfe-1c7a-4874-9bcc-f4bbd7864343",
     "regions": {
      "785b4358-ee2d-4f06-8a62-75bd78565d4b": {
       "attrs": {
        "height": 0.8,
        "width": 0.8,
        "x": 0.1,
        "y": 0.1
       },
       "content": {
        "cell": "1152006e-5a2e-4241-9c09-134a0fd40121",
        "part": "whole"
       },
       "id": "785b4358-ee2d-4f06-8a62-75bd78565d4b"
      }
     }
    },
    "c55f03f4-3b40-434c-bd04-8dfe5c62ef26": {
     "id": "c55f03f4-3b40-434c-bd04-8dfe5c62ef26",
     "prev": "8912f6f3-9cbd-4723-b4df-499733b50c16",
     "regions": {
      "74fdb52c-ffc9-49fe-a333-47c1bb654911": {
       "attrs": {
        "height": 0.8,
        "width": 0.8,
        "x": 0.1,
        "y": 0.1
       },
       "content": {
        "cell": "bfc8739f-1fb8-4d95-bf57-030054913f2d",
        "part": "whole"
       },
       "id": "74fdb52c-ffc9-49fe-a333-47c1bb654911"
      }
     }
    },
    "cbb5d1fb-18aa-4cc3-bdca-d8b38139695f": {
     "id": "cbb5d1fb-18aa-4cc3-bdca-d8b38139695f",
     "prev": "792a432d-841b-438a-b59f-8c2ce775140f",
     "regions": {
      "f8fcb2f2-98ba-4337-a836-f6305f2037e2": {
       "attrs": {
        "height": 0.8,
        "width": 0.8,
        "x": 0.1,
        "y": 0.1
       },
       "content": {
        "cell": "510b01ce-489c-4564-aedf-30b50b27730a",
        "part": "whole"
       },
       "id": "f8fcb2f2-98ba-4337-a836-f6305f2037e2"
      }
     }
    },
    "cff48955-30c0-40c3-9e7f-0a165de8e7ab": {
     "id": "cff48955-30c0-40c3-9e7f-0a165de8e7ab",
     "prev": "7a1e6892-2bae-440c-9ef2-a897b9014a48",
     "regions": {
      "7ec02529-f53a-42f1-a818-9287f1b96bd5": {
       "attrs": {
        "height": 0.8,
        "width": 0.8,
        "x": 0.1,
        "y": 0.1
       },
       "content": {
        "cell": "edece88c-e070-4600-afc4-a1d0e27ebe22",
        "part": "whole"
       },
       "id": "7ec02529-f53a-42f1-a818-9287f1b96bd5"
      }
     }
    }
   },
   "themes": {}
  }
 },
 "nbformat": 4,
 "nbformat_minor": 0
}
